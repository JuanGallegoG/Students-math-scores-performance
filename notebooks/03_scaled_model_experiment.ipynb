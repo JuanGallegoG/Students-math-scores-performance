{
 "cells": [
  {
   "cell_type": "markdown",
   "id": "87f77324",
   "metadata": {},
   "source": [
    "# scaling the model and analyze the coefficients and residuals."
   ]
  },
  {
   "cell_type": "markdown",
   "id": "f00a9f2e",
   "metadata": {},
   "source": [
    "\n",
    "- training a model with scaled data, i going to scale the data with a standarScaler()"
   ]
  },
  {
   "cell_type": "code",
   "execution_count": 2,
   "id": "27db9daa",
   "metadata": {},
   "outputs": [],
   "source": [
    "from sklearn.linear_model import LinearRegression\n",
    "from sklearn.model_selection import train_test_split\n",
    "from sklearn.metrics import r2_score\n",
    "from sklearn.preprocessing import StandardScaler\n",
    "import pandas as pd\n"
   ]
  },
  {
   "cell_type": "code",
   "execution_count": 3,
   "id": "a40aa624",
   "metadata": {},
   "outputs": [
    {
     "data": {
      "text/html": [
       "<div>\n",
       "<style scoped>\n",
       "    .dataframe tbody tr th:only-of-type {\n",
       "        vertical-align: middle;\n",
       "    }\n",
       "\n",
       "    .dataframe tbody tr th {\n",
       "        vertical-align: top;\n",
       "    }\n",
       "\n",
       "    .dataframe thead th {\n",
       "        text-align: right;\n",
       "    }\n",
       "</style>\n",
       "<table border=\"1\" class=\"dataframe\">\n",
       "  <thead>\n",
       "    <tr style=\"text-align: right;\">\n",
       "      <th></th>\n",
       "      <th>gender</th>\n",
       "      <th>parental level of education</th>\n",
       "      <th>math score</th>\n",
       "      <th>reading score</th>\n",
       "      <th>writing score</th>\n",
       "      <th>lunch_standard</th>\n",
       "      <th>test preparation course_none</th>\n",
       "      <th>race/ethnicity_group A</th>\n",
       "      <th>race/ethnicity_group B</th>\n",
       "      <th>race/ethnicity_group C</th>\n",
       "      <th>race/ethnicity_group D</th>\n",
       "      <th>race/ethnicity_group E</th>\n",
       "    </tr>\n",
       "  </thead>\n",
       "  <tbody>\n",
       "    <tr>\n",
       "      <th>0</th>\n",
       "      <td>1</td>\n",
       "      <td>4</td>\n",
       "      <td>72</td>\n",
       "      <td>72</td>\n",
       "      <td>74</td>\n",
       "      <td>True</td>\n",
       "      <td>True</td>\n",
       "      <td>False</td>\n",
       "      <td>True</td>\n",
       "      <td>False</td>\n",
       "      <td>False</td>\n",
       "      <td>False</td>\n",
       "    </tr>\n",
       "    <tr>\n",
       "      <th>1</th>\n",
       "      <td>1</td>\n",
       "      <td>2</td>\n",
       "      <td>69</td>\n",
       "      <td>90</td>\n",
       "      <td>88</td>\n",
       "      <td>True</td>\n",
       "      <td>False</td>\n",
       "      <td>False</td>\n",
       "      <td>False</td>\n",
       "      <td>True</td>\n",
       "      <td>False</td>\n",
       "      <td>False</td>\n",
       "    </tr>\n",
       "    <tr>\n",
       "      <th>2</th>\n",
       "      <td>1</td>\n",
       "      <td>5</td>\n",
       "      <td>90</td>\n",
       "      <td>95</td>\n",
       "      <td>93</td>\n",
       "      <td>True</td>\n",
       "      <td>True</td>\n",
       "      <td>False</td>\n",
       "      <td>True</td>\n",
       "      <td>False</td>\n",
       "      <td>False</td>\n",
       "      <td>False</td>\n",
       "    </tr>\n",
       "    <tr>\n",
       "      <th>3</th>\n",
       "      <td>0</td>\n",
       "      <td>3</td>\n",
       "      <td>47</td>\n",
       "      <td>57</td>\n",
       "      <td>44</td>\n",
       "      <td>False</td>\n",
       "      <td>True</td>\n",
       "      <td>True</td>\n",
       "      <td>False</td>\n",
       "      <td>False</td>\n",
       "      <td>False</td>\n",
       "      <td>False</td>\n",
       "    </tr>\n",
       "    <tr>\n",
       "      <th>4</th>\n",
       "      <td>0</td>\n",
       "      <td>2</td>\n",
       "      <td>76</td>\n",
       "      <td>78</td>\n",
       "      <td>75</td>\n",
       "      <td>True</td>\n",
       "      <td>True</td>\n",
       "      <td>False</td>\n",
       "      <td>False</td>\n",
       "      <td>True</td>\n",
       "      <td>False</td>\n",
       "      <td>False</td>\n",
       "    </tr>\n",
       "  </tbody>\n",
       "</table>\n",
       "</div>"
      ],
      "text/plain": [
       "   gender  parental level of education  math score  reading score  \\\n",
       "0       1                            4          72             72   \n",
       "1       1                            2          69             90   \n",
       "2       1                            5          90             95   \n",
       "3       0                            3          47             57   \n",
       "4       0                            2          76             78   \n",
       "\n",
       "   writing score  lunch_standard  test preparation course_none  \\\n",
       "0             74            True                          True   \n",
       "1             88            True                         False   \n",
       "2             93            True                          True   \n",
       "3             44           False                          True   \n",
       "4             75            True                          True   \n",
       "\n",
       "   race/ethnicity_group A  race/ethnicity_group B  race/ethnicity_group C  \\\n",
       "0                   False                    True                   False   \n",
       "1                   False                   False                    True   \n",
       "2                   False                    True                   False   \n",
       "3                    True                   False                   False   \n",
       "4                   False                   False                    True   \n",
       "\n",
       "   race/ethnicity_group D  race/ethnicity_group E  \n",
       "0                   False                   False  \n",
       "1                   False                   False  \n",
       "2                   False                   False  \n",
       "3                   False                   False  \n",
       "4                   False                   False  "
      ]
     },
     "execution_count": 3,
     "metadata": {},
     "output_type": "execute_result"
    }
   ],
   "source": [
    "data = pd.read_csv(\"../data/processed/StudentsPerformance_processed.csv\")\n",
    "data.head()"
   ]
  },
  {
   "cell_type": "markdown",
   "id": "ca443d70",
   "metadata": {},
   "source": [
    "- select the columns to scale (no booleans) and scale the data\n",
    "we can´t to scale the math score because is the target, and it doen´t have a big values (not necessary)\n",
    "\n",
    "- also put the target at the end of the data"
   ]
  },
  {
   "cell_type": "code",
   "execution_count": 4,
   "id": "14908460",
   "metadata": {},
   "outputs": [],
   "source": [
    "X = data.drop(columns = ['math score'])\n",
    "y = data['math score']\n",
    "\n",
    "X_train, X_test, y_train, y_test = train_test_split(X, y, test_size=0.2, random_state=42)\n",
    "\n",
    "scaled_columns = ['parental level of education', 'reading score', 'writing score']\n",
    "bool_columns = [c for c in X.columns if c not in scaled_columns]\n",
    "\n",
    "scaler = StandardScaler()\n",
    "X_train_scaled_columns = scaler.fit_transform(X_train[scaled_columns])\n",
    "\n",
    "X_train_scaled = pd.concat([pd.DataFrame(X_train_scaled_columns, columns=scaled_columns),\n",
    "                        X_train[bool_columns].reset_index(drop=True)], axis=1)\n",
    "\n",
    "X_test_scaled_columns = scaler.fit_transform(X_test[scaled_columns])\n",
    "X_test_scaled = pd.concat([pd.DataFrame(X_test_scaled_columns, columns=scaled_columns),\n",
    "                        X_test[bool_columns].reset_index(drop=True)], axis=1)\n",
    "\n"
   ]
  },
  {
   "cell_type": "markdown",
   "id": "5e469fe9",
   "metadata": {},
   "source": [
    "- training the scaled_model"
   ]
  },
  {
   "cell_type": "code",
   "execution_count": 5,
   "id": "2f348bfa",
   "metadata": {},
   "outputs": [
    {
     "name": "stdout",
     "output_type": "stream",
     "text": [
      "R^2:  0.8628641247089452\n"
     ]
    }
   ],
   "source": [
    "scaled_model = LinearRegression()\n",
    "scaled_model.fit(X_train_scaled, y_train)\n",
    "y_pred = scaled_model.predict(X_test_scaled)\n",
    "r2_scaled_01 = r2_score(y_test, y_pred)\n",
    "print(\"R^2: \", r2_scaled_01)"
   ]
  },
  {
   "cell_type": "code",
   "execution_count": 6,
   "id": "e97f7a17",
   "metadata": {},
   "outputs": [
    {
     "name": "stdout",
     "output_type": "stream",
     "text": [
      "test prediction: [77.73267043 60.0055076 ]\n"
     ]
    }
   ],
   "source": [
    "import joblib\n",
    "route = '../models/scaled_model.pkl'\n",
    "joblib.dump(scaled_model, route)\n",
    "model_test = joblib.load(route)\n",
    "print(\"test prediction:\", model_test.predict(X_test_scaled[:2]))"
   ]
  },
  {
   "cell_type": "markdown",
   "id": "d0211f02",
   "metadata": {},
   "source": [
    "analyze the coefficients"
   ]
  },
  {
   "cell_type": "code",
   "execution_count": 10,
   "id": "50691428",
   "metadata": {},
   "outputs": [
    {
     "name": "stdout",
     "output_type": "stream",
     "text": [
      "                       variables  coefficients\n",
      "2                  writing score     10.946755\n",
      "10        race/ethnicity_group E      4.116733\n",
      "4                 lunch_standard      3.534778\n",
      "1                  reading score      3.370908\n",
      "5   test preparation course_none      3.313586\n",
      "7         race/ethnicity_group B     -0.455204\n",
      "0    parental level of education     -0.620743\n",
      "6         race/ethnicity_group A     -0.846152\n",
      "8         race/ethnicity_group C     -1.397844\n",
      "9         race/ethnicity_group D     -1.417533\n",
      "3                         gender    -13.095750\n",
      "B_0: 69.29439332721046\n"
     ]
    }
   ],
   "source": [
    "coefficients_DF = pd.DataFrame({\n",
    "    'variables':  X_train_scaled.columns,\n",
    "    'coefficients': scaled_model.coef_\n",
    "}).sort_values(by='coefficients', ascending=False)\n",
    "\n",
    "print(coefficients_DF)\n",
    "print(f\"B_0: {scaled_model.intercept_}\")"
   ]
  },
  {
   "cell_type": "code",
   "execution_count": 17,
   "id": "900a4119",
   "metadata": {},
   "outputs": [
    {
     "name": "stdout",
     "output_type": "stream",
     "text": [
      "                       variables  coefficients     impact\n",
      "3                         gender    -13.095750  13.095750\n",
      "2                  writing score     10.946755  10.946755\n",
      "10        race/ethnicity_group E      4.116733   4.116733\n",
      "4                 lunch_standard      3.534778   3.534778\n",
      "1                  reading score      3.370908   3.370908\n",
      "5   test preparation course_none      3.313586   3.313586\n",
      "9         race/ethnicity_group D     -1.417533   1.417533\n",
      "8         race/ethnicity_group C     -1.397844   1.397844\n",
      "6         race/ethnicity_group A     -0.846152   0.846152\n",
      "0    parental level of education     -0.620743   0.620743\n",
      "7         race/ethnicity_group B     -0.455204   0.455204\n"
     ]
    }
   ],
   "source": [
    "import numpy as np\n",
    "coefficients_DF['impact'] = np.abs(coefficients_DF['coefficients'])\n",
    "coefficients_DF = coefficients_DF.sort_values(by='impact', ascending=False)\n",
    "print(coefficients_DF)"
   ]
  },
  {
   "cell_type": "code",
   "execution_count": 20,
   "id": "58d1764b",
   "metadata": {},
   "outputs": [
    {
     "data": {
      "image/png": "[encoded data removed]",
      "text/plain": [
       "<Figure size 1000x600 with 1 Axes>"
      ]
     },
     "metadata": {},
     "output_type": "display_data"
    }
   ],
   "source": [
    "import matplotlib.pyplot as plt\n",
    "plt.figure(figsize=(10, 6))\n",
    "bars = plt.barh(coefficients_DF['variables'], coefficients_DF['coefficients'], color='skyblue')\n",
    "plt.xlabel('coefficients values')\n",
    "plt.ylabel('Variable')\n",
    "plt.title('variables impact (Coefficients)')\n",
    "plt.gca().invert_yaxis()\n",
    "plt.axvline(0, color='red', linestyle='--', linewidth=1)  \n",
    "plt.savefig(\"../images/coefficients.png\", dpi=300, bbox_inches='tight')\n",
    "plt.show()"
   ]
  },
  {
   "cell_type": "code",
   "execution_count": null,
   "id": "b3ba6889",
   "metadata": {},
   "outputs": [],
   "source": []
  }
 ],
 "metadata": {
  "kernelspec": {
   "display_name": "venv",
   "language": "python",
   "name": "python3"
  },
  "language_info": {
   "codemirror_mode": {
    "name": "ipython",
    "version": 3
   },
   "file_extension": ".py",
   "mimetype": "text/x-python",
   "name": "python",
   "nbconvert_exporter": "python",
   "pygments_lexer": "ipython3",
   "version": "3.13.7"
  }
 },
 "nbformat": 4,
 "nbformat_minor": 5
}
